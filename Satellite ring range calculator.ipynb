{
 "cells": [
  {
   "cell_type": "markdown",
   "metadata": {},
   "source": [
    "# Satellite ring range and count calculator"
   ]
  },
  {
   "cell_type": "code",
   "execution_count": 1,
   "metadata": {},
   "outputs": [],
   "source": [
    "# Setup\n",
    "import sympy\n",
    "import math\n",
    "\n",
    "def log10(x): # Handy caller\n",
    "    return sympy.log(x, 10)"
   ]
  },
  {
   "cell_type": "markdown",
   "metadata": {},
   "source": [
    "Light speed in vacum (*m/s*)."
   ]
  },
  {
   "cell_type": "code",
   "execution_count": 2,
   "metadata": {},
   "outputs": [],
   "source": [
    "light_speed = 83275"
   ]
  },
  {
   "cell_type": "markdown",
   "metadata": {},
   "source": [
    "Target body radius (*km*)."
   ]
  },
  {
   "cell_type": "code",
   "execution_count": 3,
   "metadata": {},
   "outputs": [],
   "source": [
    "tgt_r = 6371 # TarGeT Radius"
   ]
  },
  {
   "cell_type": "markdown",
   "metadata": {},
   "source": [
    "Target body radius with clearence (*km*)."
   ]
  },
  {
   "cell_type": "code",
   "execution_count": 4,
   "metadata": {},
   "outputs": [],
   "source": [
    "tgt_rc = tgt_r + 100 # TarGeT Radius Clearence"
   ]
  },
  {
   "cell_type": "markdown",
   "metadata": {},
   "source": [
    "Total budget link (*dbm*)."
   ]
  },
  {
   "cell_type": "code",
   "execution_count": 5,
   "metadata": {},
   "outputs": [],
   "source": [
    "dbl = 167 # DBm Loss"
   ]
  },
  {
   "cell_type": "markdown",
   "metadata": {},
   "source": [
    "Used frequency (*hz*)."
   ]
  },
  {
   "cell_type": "code",
   "execution_count": 6,
   "metadata": {},
   "outputs": [],
   "source": [
    "fq = 868 * 1000000 # FreQuency, Mhz to hz."
   ]
  },
  {
   "cell_type": "code",
   "execution_count": 7,
   "metadata": {},
   "outputs": [
    {
     "name": "stdout",
     "output_type": "stream",
     "text": [
      "Max comm range ~: 1709km.\n"
     ]
    }
   ],
   "source": [
    "# Free Space Loss max range calculation\n",
    "d = sympy.Symbol(\"d\")\n",
    "# Solving the FSPL formula with known dbm loss and unkown distance.\n",
    "r = sympy.solve(20*log10(d)+20*log10(fq)+20*log10((4*sympy.pi)/light_speed) - dbl, d)\n",
    "if len(r) != 1:\n",
    "    raise \"There is not 1 result for the free space loss max range calculation: \" + str(len(r)) + \".\"\n",
    "max_range = float(r[0])\n",
    "print(\"Max comm range ~: \" + str(round(max_range)) + \"km.\")"
   ]
  },
  {
   "cell_type": "code",
   "execution_count": 8,
   "metadata": {},
   "outputs": [
    {
     "name": "stdout",
     "output_type": "stream",
     "text": [
      "Optimal satellite height ~: 156km.\n"
     ]
    }
   ],
   "source": [
    "# Optimal Altitude calculation\n",
    "# Using Pythagore's theorem to calculate radius of a satellite at max range with an other one in the same altitude with the link tangent to the target clearence radius.\n",
    "alt_r = math.sqrt(tgt_rc**2+(max_range/2)**2) # ALTitude as Radius\n",
    "alt = alt_r - tgt_r\n",
    "print(\"Optimal satellite height ~: \" + str(round(alt)) + \"km.\")"
   ]
  },
  {
   "cell_type": "code",
   "execution_count": 9,
   "metadata": {},
   "outputs": [
    {
     "name": "stdout",
     "output_type": "stream",
     "text": [
      "Optimal satellite count (rounded up) : 24.\n"
     ]
    }
   ],
   "source": [
    "# Optimal Number of Satellite calculation\n",
    "# Calculating angular range of the earth covered by a satellite pair and divide tau by that.\n",
    "sat_count = math.tau/(math.acos(tgt_rc/alt_r)*2)\n",
    "print(\"Optimal satellite count (rounded up) : \" + str(math.ceil(sat_count)) + \".\")"
   ]
  }
 ],
 "metadata": {
  "kernelspec": {
   "display_name": "Python 3",
   "language": "python",
   "name": "python3"
  },
  "language_info": {
   "codemirror_mode": {
    "name": "ipython",
    "version": 3
   },
   "file_extension": ".py",
   "mimetype": "text/x-python",
   "name": "python",
   "nbconvert_exporter": "python",
   "pygments_lexer": "ipython3",
   "version": "3.7.5"
  }
 },
 "nbformat": 4,
 "nbformat_minor": 4
}
